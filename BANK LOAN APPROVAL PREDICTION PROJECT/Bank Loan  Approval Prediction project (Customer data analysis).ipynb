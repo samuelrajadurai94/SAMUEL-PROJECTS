{
 "cells": [
  {
   "cell_type": "code",
   "execution_count": 1,
   "id": "2cb336a1",
   "metadata": {},
   "outputs": [],
   "source": [
    "import pandas as pd\n",
    "import seaborn as sns\n",
    "import matplotlib.pyplot as plt"
   ]
  },
  {
   "cell_type": "code",
   "execution_count": 2,
   "id": "8540409e",
   "metadata": {},
   "outputs": [],
   "source": [
    "# loading the dataset\n",
    "dk = pd.read_csv('D:\\\\Downloads\\\\loan_prediction.csv')"
   ]
  },
  {
   "cell_type": "code",
   "execution_count": 3,
   "id": "2c128b3a",
   "metadata": {},
   "outputs": [
    {
     "name": "stdout",
     "output_type": "stream",
     "text": [
      "    Loan_ID Gender Married Dependents     Education Self_Employed  \\\n",
      "0  LP001002   Male      No          0      Graduate            No   \n",
      "1  LP001003   Male     Yes          1      Graduate            No   \n",
      "2  LP001005   Male     Yes          0      Graduate           Yes   \n",
      "3  LP001006   Male     Yes          0  Not Graduate            No   \n",
      "4  LP001008   Male      No          0      Graduate            No   \n",
      "\n",
      "   ApplicantIncome  CoapplicantIncome  LoanAmount  Loan_Amount_Term  \\\n",
      "0             5849                0.0         NaN             360.0   \n",
      "1             4583             1508.0       128.0             360.0   \n",
      "2             3000                0.0        66.0             360.0   \n",
      "3             2583             2358.0       120.0             360.0   \n",
      "4             6000                0.0       141.0             360.0   \n",
      "\n",
      "   Credit_History Property_Area Loan_Status  \n",
      "0             1.0         Urban           Y  \n",
      "1             1.0         Rural           N  \n",
      "2             1.0         Urban           Y  \n",
      "3             1.0         Urban           Y  \n",
      "4             1.0         Urban           Y  \n",
      "(614, 13)\n",
      "<class 'pandas.core.frame.DataFrame'>\n",
      "RangeIndex: 614 entries, 0 to 613\n",
      "Data columns (total 13 columns):\n",
      " #   Column             Non-Null Count  Dtype  \n",
      "---  ------             --------------  -----  \n",
      " 0   Loan_ID            614 non-null    object \n",
      " 1   Gender             601 non-null    object \n",
      " 2   Married            611 non-null    object \n",
      " 3   Dependents         599 non-null    object \n",
      " 4   Education          614 non-null    object \n",
      " 5   Self_Employed      582 non-null    object \n",
      " 6   ApplicantIncome    614 non-null    int64  \n",
      " 7   CoapplicantIncome  614 non-null    float64\n",
      " 8   LoanAmount         592 non-null    float64\n",
      " 9   Loan_Amount_Term   600 non-null    float64\n",
      " 10  Credit_History     564 non-null    float64\n",
      " 11  Property_Area      614 non-null    object \n",
      " 12  Loan_Status        614 non-null    object \n",
      "dtypes: float64(4), int64(1), object(8)\n",
      "memory usage: 62.5+ KB\n",
      "None\n"
     ]
    }
   ],
   "source": [
    "print(dk.head())\n",
    "print(dk.shape)\n",
    "print(dk.info())"
   ]
  },
  {
   "cell_type": "code",
   "execution_count": 4,
   "id": "82a7f7a0",
   "metadata": {},
   "outputs": [
    {
     "name": "stdout",
     "output_type": "stream",
     "text": [
      "Loan_ID              0.000000\n",
      "Gender               2.117264\n",
      "Married              0.488599\n",
      "Dependents           2.442997\n",
      "Education            0.000000\n",
      "Self_Employed        5.211726\n",
      "ApplicantIncome      0.000000\n",
      "CoapplicantIncome    0.000000\n",
      "LoanAmount           3.583062\n",
      "Loan_Amount_Term     2.280130\n",
      "Credit_History       8.143322\n",
      "Property_Area        0.000000\n",
      "Loan_Status          0.000000\n",
      "dtype: float64\n"
     ]
    }
   ],
   "source": [
    "#To check null values\n",
    "print(dk.isnull().sum() * 100/len(dk))"
   ]
  },
  {
   "cell_type": "code",
   "execution_count": 5,
   "id": "7f7e919a",
   "metadata": {},
   "outputs": [
    {
     "name": "stdout",
     "output_type": "stream",
     "text": [
      "Self_Employed\n",
      "No     500\n",
      "Yes     82\n",
      "Name: Self_Employed, dtype: int64\n",
      "Credit_History\n",
      "0.0     89\n",
      "1.0    475\n",
      "Name: Credit_History, dtype: int64\n"
     ]
    }
   ],
   "source": [
    "print(dk.groupby('Self_Employed')['Self_Employed'].count())\n",
    "print(dk.groupby('Credit_History')['Credit_History'].count())"
   ]
  },
  {
   "cell_type": "code",
   "execution_count": 6,
   "id": "38f5df6f",
   "metadata": {},
   "outputs": [
    {
     "name": "stdout",
     "output_type": "stream",
     "text": [
      "  Gender Married Dependents Education Self_Employed  ApplicantIncome  \\\n",
      "0   Male      No          0  Graduate            No             5849   \n",
      "\n",
      "   CoapplicantIncome  LoanAmount  Loan_Amount_Term  Credit_History  \\\n",
      "0                0.0         NaN             360.0             1.0   \n",
      "\n",
      "  Property_Area Loan_Status  \n",
      "0         Urban           Y  \n"
     ]
    }
   ],
   "source": [
    "#To reomive loanid column which is unnecessory\n",
    "dk = dk.drop('Loan_ID',axis = 1)\n",
    "print(dk.head(1))"
   ]
  },
  {
   "cell_type": "code",
   "execution_count": 7,
   "id": "d9223045",
   "metadata": {},
   "outputs": [],
   "source": [
    "# To remove nullvalues in less than 5% nullpercentcolumns\n",
    "nacolumns=['Gender','Married','Dependents','LoanAmount','Loan_Amount_Term']\n",
    "dk=dk.dropna(subset=nacolumns)"
   ]
  },
  {
   "cell_type": "code",
   "execution_count": 8,
   "id": "17f2232b",
   "metadata": {},
   "outputs": [
    {
     "name": "stdout",
     "output_type": "stream",
     "text": [
      "Gender               0.000000\n",
      "Married              0.000000\n",
      "Dependents           0.000000\n",
      "Education            0.000000\n",
      "Self_Employed        5.424955\n",
      "ApplicantIncome      0.000000\n",
      "CoapplicantIncome    0.000000\n",
      "LoanAmount           0.000000\n",
      "Loan_Amount_Term     0.000000\n",
      "Credit_History       8.679928\n",
      "Property_Area        0.000000\n",
      "Loan_Status          0.000000\n",
      "dtype: float64\n"
     ]
    }
   ],
   "source": [
    "print(dk.isnull().sum() * 100/len(dk))"
   ]
  },
  {
   "cell_type": "code",
   "execution_count": 9,
   "id": "bef4a21b",
   "metadata": {},
   "outputs": [
    {
     "name": "stdout",
     "output_type": "stream",
     "text": [
      "0    No\n",
      "Name: Self_Employed, dtype: object\n"
     ]
    }
   ],
   "source": [
    "#To fill null values with max frequency values\n",
    "print(dk['Self_Employed'].mode())"
   ]
  },
  {
   "cell_type": "code",
   "execution_count": 10,
   "id": "e26a9c5e",
   "metadata": {},
   "outputs": [],
   "source": [
    "dk['Self_Employed']=dk['Self_Employed'].fillna(dk['Self_Employed'].mode()[0])"
   ]
  },
  {
   "cell_type": "code",
   "execution_count": 11,
   "id": "979e5fe7",
   "metadata": {},
   "outputs": [
    {
     "name": "stdout",
     "output_type": "stream",
     "text": [
      "Credit_History\n",
      "0.0     71\n",
      "1.0    434\n",
      "Name: Credit_History, dtype: int64\n"
     ]
    }
   ],
   "source": [
    "print(dk.groupby('Credit_History')['Credit_History'].count())\n",
    "dk['Credit_History']=dk['Credit_History'].fillna(dk['Credit_History'].mode()[0])"
   ]
  },
  {
   "cell_type": "code",
   "execution_count": 12,
   "id": "3cba764e",
   "metadata": {},
   "outputs": [
    {
     "name": "stdout",
     "output_type": "stream",
     "text": [
      "Gender               0.0\n",
      "Married              0.0\n",
      "Dependents           0.0\n",
      "Education            0.0\n",
      "Self_Employed        0.0\n",
      "ApplicantIncome      0.0\n",
      "CoapplicantIncome    0.0\n",
      "LoanAmount           0.0\n",
      "Loan_Amount_Term     0.0\n",
      "Credit_History       0.0\n",
      "Property_Area        0.0\n",
      "Loan_Status          0.0\n",
      "dtype: float64\n"
     ]
    }
   ],
   "source": [
    "print(dk.isnull().sum() * 100/len(dk))"
   ]
  },
  {
   "cell_type": "code",
   "execution_count": 13,
   "id": "9775d3cc",
   "metadata": {},
   "outputs": [
    {
     "name": "stdout",
     "output_type": "stream",
     "text": [
      "    Gender Married Dependents     Education Self_Employed  ApplicantIncome  \\\n",
      "490   Male      No          0  Not Graduate            No             2699   \n",
      "62    Male     Yes          0  Not Graduate           Yes             2609   \n",
      "452   Male     Yes          0      Graduate            No             3948   \n",
      "351   Male      No          0      Graduate            No             8750   \n",
      "134   Male      No          0      Graduate            No             4895   \n",
      "\n",
      "     CoapplicantIncome  LoanAmount  Loan_Amount_Term  Credit_History  \\\n",
      "490             2785.0        96.0             360.0             1.0   \n",
      "62              3449.0       165.0             180.0             0.0   \n",
      "452             1733.0       149.0             360.0             0.0   \n",
      "351             4167.0       308.0             360.0             1.0   \n",
      "134                0.0       102.0             360.0             1.0   \n",
      "\n",
      "    Property_Area Loan_Status  \n",
      "490     Semiurban           Y  \n",
      "62          Rural           N  \n",
      "452         Rural           N  \n",
      "351         Rural           N  \n",
      "134     Semiurban           Y  \n"
     ]
    }
   ],
   "source": [
    "#check some numerical columns and change any symbols if present\n",
    "print(dk.sample(5))"
   ]
  },
  {
   "cell_type": "code",
   "execution_count": 14,
   "id": "34dddab3",
   "metadata": {},
   "outputs": [
    {
     "name": "stdout",
     "output_type": "stream",
     "text": [
      "['1' '0' '2' '3+']\n"
     ]
    }
   ],
   "source": [
    "print(dk['Dependents'].unique())"
   ]
  },
  {
   "cell_type": "code",
   "execution_count": 15,
   "id": "8d519b57",
   "metadata": {},
   "outputs": [
    {
     "name": "stdout",
     "output_type": "stream",
     "text": [
      "['1' '0' '2' '4']\n"
     ]
    }
   ],
   "source": [
    "dk['Dependents'] = dk['Dependents'].replace(to_replace='3+',value='4')\n",
    "print(dk['Dependents'].unique())"
   ]
  },
  {
   "cell_type": "code",
   "execution_count": 16,
   "id": "e7cf88be",
   "metadata": {},
   "outputs": [
    {
     "name": "stdout",
     "output_type": "stream",
     "text": [
      "['Rural' 'Urban' 'Semiurban']\n"
     ]
    }
   ],
   "source": [
    "print(dk['Property_Area'].unique())"
   ]
  },
  {
   "cell_type": "code",
   "execution_count": 17,
   "id": "8d126d00",
   "metadata": {},
   "outputs": [],
   "source": [
    "#To convert categorical into numerical\n",
    "from sklearn.preprocessing import LabelEncoder\n",
    "lr = LabelEncoder()\n",
    "dk['Property_Area'] = lr.fit_transform(dk['Property_Area'])\n",
    "dk['Gender'] = lr.fit_transform(dk['Gender'])\n",
    "dk['Married'] = lr.fit_transform(dk['Married'])\n",
    "dk['Education'] = lr.fit_transform(dk['Education'])\n",
    "dk['Self_Employed'] = lr.fit_transform(dk['Self_Employed'])\n",
    "dk['Loan_Status'] = lr.fit_transform(dk['Loan_Status'])"
   ]
  },
  {
   "cell_type": "code",
   "execution_count": 18,
   "id": "a32c44f3",
   "metadata": {},
   "outputs": [
    {
     "name": "stdout",
     "output_type": "stream",
     "text": [
      "    Gender  Married Dependents  Education  Self_Employed  ApplicantIncome  \\\n",
      "1        1        1          1          0              0             4583   \n",
      "2        1        1          0          0              1             3000   \n",
      "3        1        1          0          1              0             2583   \n",
      "4        1        0          0          0              0             6000   \n",
      "5        1        1          2          0              1             5417   \n",
      "6        1        1          0          1              0             2333   \n",
      "7        1        1          4          0              0             3036   \n",
      "8        1        1          2          0              0             4006   \n",
      "9        1        1          1          0              0            12841   \n",
      "10       1        1          2          0              0             3200   \n",
      "\n",
      "    CoapplicantIncome  LoanAmount  Loan_Amount_Term  Credit_History  \\\n",
      "1              1508.0       128.0             360.0             1.0   \n",
      "2                 0.0        66.0             360.0             1.0   \n",
      "3              2358.0       120.0             360.0             1.0   \n",
      "4                 0.0       141.0             360.0             1.0   \n",
      "5              4196.0       267.0             360.0             1.0   \n",
      "6              1516.0        95.0             360.0             1.0   \n",
      "7              2504.0       158.0             360.0             0.0   \n",
      "8              1526.0       168.0             360.0             1.0   \n",
      "9             10968.0       349.0             360.0             1.0   \n",
      "10              700.0        70.0             360.0             1.0   \n",
      "\n",
      "    Property_Area  Loan_Status  \n",
      "1               0            0  \n",
      "2               2            1  \n",
      "3               2            1  \n",
      "4               2            1  \n",
      "5               2            1  \n",
      "6               2            1  \n",
      "7               1            0  \n",
      "8               2            1  \n",
      "9               1            0  \n",
      "10              2            1  \n"
     ]
    }
   ],
   "source": [
    "print(dk.head(10))"
   ]
  },
  {
   "cell_type": "code",
   "execution_count": 19,
   "id": "e8c4af15",
   "metadata": {},
   "outputs": [
    {
     "name": "stdout",
     "output_type": "stream",
     "text": [
      "<class 'pandas.core.frame.DataFrame'>\n",
      "Index: 553 entries, 1 to 613\n",
      "Data columns (total 12 columns):\n",
      " #   Column             Non-Null Count  Dtype  \n",
      "---  ------             --------------  -----  \n",
      " 0   Gender             553 non-null    int32  \n",
      " 1   Married            553 non-null    int32  \n",
      " 2   Dependents         553 non-null    object \n",
      " 3   Education          553 non-null    int32  \n",
      " 4   Self_Employed      553 non-null    int32  \n",
      " 5   ApplicantIncome    553 non-null    int64  \n",
      " 6   CoapplicantIncome  553 non-null    float64\n",
      " 7   LoanAmount         553 non-null    float64\n",
      " 8   Loan_Amount_Term   553 non-null    float64\n",
      " 9   Credit_History     553 non-null    float64\n",
      " 10  Property_Area      553 non-null    int32  \n",
      " 11  Loan_Status        553 non-null    int32  \n",
      "dtypes: float64(4), int32(6), int64(1), object(1)\n",
      "memory usage: 43.2+ KB\n",
      "None\n"
     ]
    }
   ],
   "source": [
    "print(dk.info())"
   ]
  },
  {
   "cell_type": "code",
   "execution_count": 20,
   "id": "12b0bf71",
   "metadata": {},
   "outputs": [
    {
     "name": "stdout",
     "output_type": "stream",
     "text": [
      "       ApplicantIncome  CoapplicantIncome\n",
      "count       553.000000         553.000000\n",
      "mean       5350.018083        1659.119204\n",
      "std        5965.429068        3043.448229\n",
      "min         150.000000           0.000000\n",
      "25%        2889.000000           0.000000\n",
      "50%        3812.000000        1213.000000\n",
      "75%        5815.000000        2306.000000\n",
      "max       81000.000000       41667.000000\n"
     ]
    }
   ],
   "source": [
    "print(dk[['ApplicantIncome','CoapplicantIncome']].describe())"
   ]
  },
  {
   "cell_type": "code",
   "execution_count": 21,
   "id": "ce8525ee",
   "metadata": {},
   "outputs": [
    {
     "data": {
      "image/png": "[encoded data removed]",
      "text/plain": [
       "<Figure size 1200x600 with 2 Axes>"
      ]
     },
     "metadata": {},
     "output_type": "display_data"
    }
   ],
   "source": [
    "# heatmap to see corelation b/w features.\n",
    "plt.figure(figsize=(12,6))\n",
    "sns.heatmap(dk.corr(),cmap='BrBG',fmt='.2f',linewidths=2,annot=True)\n",
    "plt.show()"
   ]
  },
  {
   "cell_type": "code",
   "execution_count": 22,
   "id": "f25c53ed",
   "metadata": {},
   "outputs": [],
   "source": [
    "# Defining feature column and Target column\n",
    "x = dk.drop('Loan_Status',axis=1)\n",
    "y = dk['Loan_Status']"
   ]
  },
  {
   "cell_type": "code",
   "execution_count": 23,
   "id": "3e75a67b",
   "metadata": {},
   "outputs": [
    {
     "name": "stdout",
     "output_type": "stream",
     "text": [
      "1      0\n",
      "2      1\n",
      "3      1\n",
      "4      1\n",
      "5      1\n",
      "      ..\n",
      "609    1\n",
      "610    1\n",
      "611    1\n",
      "612    1\n",
      "613    0\n",
      "Name: Loan_Status, Length: 553, dtype: int32\n"
     ]
    }
   ],
   "source": [
    "print(y)"
   ]
  },
  {
   "cell_type": "code",
   "execution_count": 24,
   "id": "ce9a30a4",
   "metadata": {},
   "outputs": [
    {
     "name": "stdout",
     "output_type": "stream",
     "text": [
      "     ApplicantIncome  CoapplicantIncome  LoanAmount  Loan_Amount_Term\n",
      "1          -0.128694          -0.049699   -0.214368          0.279961\n",
      "2          -0.394296          -0.545638   -0.952675          0.279961\n",
      "3          -0.464262           0.229842   -0.309634          0.279961\n",
      "4           0.109057          -0.545638   -0.059562          0.279961\n",
      "5           0.011239           0.834309    1.440866          0.279961\n",
      "..               ...                ...         ...               ...\n",
      "609        -0.411075          -0.545638   -0.893134          0.279961\n",
      "610        -0.208727          -0.545638   -1.262287         -2.468292\n",
      "611         0.456706          -0.466709    1.274152          0.279961\n",
      "612         0.374659          -0.545638    0.488213          0.279961\n",
      "613        -0.128694          -0.545638   -0.154828          0.279961\n",
      "\n",
      "[553 rows x 4 columns]\n"
     ]
    }
   ],
   "source": [
    "# To give scaling to numbers\n",
    "sccol = ['ApplicantIncome','CoapplicantIncome','LoanAmount','Loan_Amount_Term']\n",
    "from sklearn.preprocessing import StandardScaler\n",
    "st = StandardScaler()\n",
    "x[sccol] = st.fit_transform(x[sccol])\n",
    "print(x[sccol])"
   ]
  },
  {
   "cell_type": "code",
   "execution_count": 25,
   "id": "8e4df02f",
   "metadata": {},
   "outputs": [],
   "source": [
    "import warnings\n",
    "warnings.filterwarnings('ignore')\n",
    "\n",
    "#Model building\n",
    "from sklearn.model_selection import train_test_split\n",
    "from sklearn.metrics import accuracy_score\n",
    "from sklearn.model_selection import cross_val_score\n",
    "import numpy as np"
   ]
  },
  {
   "cell_type": "code",
   "execution_count": 26,
   "id": "1c1c0059",
   "metadata": {},
   "outputs": [],
   "source": [
    "modelset ={}\n",
    "def model_acscore(model,x,y):\n",
    "    xtrain,xtest,ytrain,ytest = train_test_split(x,y,test_size=0.20,random_state=42)\n",
    "    model.fit(xtrain,ytrain)\n",
    "    y_pred = model.predict(xtest)\n",
    "    print(f'{model} accuracy is {accuracy_score(ytest,y_pred)}')\n",
    "\n",
    "    score = cross_val_score(model,x,y,cv=5)\n",
    "    print(f'{model} Avg crossvalscore is {np.mean(score)}')\n",
    "    modelset[model] = round(np.mean(score)*100,2)"
   ]
  },
  {
   "cell_type": "code",
   "execution_count": 27,
   "id": "453ace81",
   "metadata": {},
   "outputs": [
    {
     "name": "stdout",
     "output_type": "stream",
     "text": [
      "LogisticRegression() accuracy is 0.7927927927927928\n",
      "LogisticRegression() Avg crossvalscore is 0.802964782964783\n",
      "{LogisticRegression(): 80.3}\n"
     ]
    }
   ],
   "source": [
    "# Logistic Regression\n",
    "from sklearn.linear_model import LogisticRegression\n",
    "model1 = LogisticRegression()\n",
    "model_acscore(model1,x,y)\n",
    "print(modelset)"
   ]
  },
  {
   "cell_type": "code",
   "execution_count": 28,
   "id": "81201261",
   "metadata": {},
   "outputs": [
    {
     "name": "stdout",
     "output_type": "stream",
     "text": [
      "SVC() accuracy is 0.8018018018018018\n",
      "SVC() Avg crossvalscore is 0.7920720720720721\n"
     ]
    }
   ],
   "source": [
    "# Support vector machine\n",
    "from sklearn import svm\n",
    "model2 = svm.SVC()\n",
    "model_acscore(model2,x,y)"
   ]
  },
  {
   "cell_type": "code",
   "execution_count": 29,
   "id": "9b82ad17",
   "metadata": {},
   "outputs": [
    {
     "name": "stdout",
     "output_type": "stream",
     "text": [
      "DecisionTreeClassifier() accuracy is 0.7207207207207207\n",
      "DecisionTreeClassifier() Avg crossvalscore is 0.7015397215397214\n"
     ]
    }
   ],
   "source": [
    "# Decision Tree\n",
    "from sklearn.tree import DecisionTreeClassifier\n",
    "model3 = DecisionTreeClassifier()\n",
    "model_acscore(model3,x,y)"
   ]
  },
  {
   "cell_type": "code",
   "execution_count": 30,
   "id": "7d297aa3",
   "metadata": {},
   "outputs": [
    {
     "name": "stdout",
     "output_type": "stream",
     "text": [
      "RandomForestClassifier() accuracy is 0.7747747747747747\n",
      "RandomForestClassifier() Avg crossvalscore is 0.7848484848484848\n"
     ]
    }
   ],
   "source": [
    "# Random forest\n",
    "from sklearn.ensemble import RandomForestClassifier\n",
    "model4 = RandomForestClassifier()\n",
    "model_acscore(model4,x,y)"
   ]
  },
  {
   "cell_type": "code",
   "execution_count": 31,
   "id": "b79c56ff",
   "metadata": {},
   "outputs": [
    {
     "name": "stdout",
     "output_type": "stream",
     "text": [
      "GradientBoostingClassifier() accuracy is 0.7747747747747747\n",
      "GradientBoostingClassifier() Avg crossvalscore is 0.7739885339885341\n"
     ]
    }
   ],
   "source": [
    "#Gradient boosting\n",
    "from sklearn.ensemble import GradientBoostingClassifier\n",
    "model5 = GradientBoostingClassifier()\n",
    "model_acscore(model5,x,y)"
   ]
  },
  {
   "cell_type": "code",
   "execution_count": 32,
   "id": "1065b5be",
   "metadata": {},
   "outputs": [
    {
     "name": "stdout",
     "output_type": "stream",
     "text": [
      "{LogisticRegression(): 80.3, SVC(): 79.21, DecisionTreeClassifier(): 70.15, RandomForestClassifier(): 78.48, GradientBoostingClassifier(): 77.4}\n",
      "****************************\n"
     ]
    }
   ],
   "source": [
    "print(modelset)\n",
    "print('****************************')"
   ]
  },
  {
   "cell_type": "code",
   "execution_count": 33,
   "id": "248ff2bf",
   "metadata": {},
   "outputs": [
    {
     "name": "stdout",
     "output_type": "stream",
     "text": [
      "Fitting 5 folds for each of 20 candidates, totalling 100 fits\n",
      "0.802964782964783\n",
      "{'solver': 'liblinear', 'C': 3792.690190732246}\n",
      "************************\n"
     ]
    }
   ],
   "source": [
    "# Hyper parameter tuning for logistic reg\n",
    "from sklearn.model_selection import RandomizedSearchCV\n",
    "logr_para={'C':np.logspace(-4,4,20),\n",
    "           'solver': ['liblinear','lbfgs','newton-cholesky']}\n",
    "rs_logr = RandomizedSearchCV(LogisticRegression(),\n",
    "                           param_distributions=logr_para,\n",
    "                           n_iter=20,cv=5,verbose=True)\n",
    "rs_logr.fit(x,y)\n",
    "print(rs_logr.best_score_)\n",
    "print(rs_logr.best_params_)\n",
    "print('************************')"
   ]
  },
  {
   "cell_type": "code",
   "execution_count": 34,
   "id": "98b2c6a2",
   "metadata": {},
   "outputs": [
    {
     "name": "stdout",
     "output_type": "stream",
     "text": [
      "Fitting 5 folds for each of 8 candidates, totalling 40 fits\n",
      "0.8066011466011467\n",
      "{'kernel': 'linear', 'C': 0.25}\n",
      "***********************\n"
     ]
    }
   ],
   "source": [
    "# Hyper parameter tuning for svm model\n",
    "svm_para={'C':[0.25,0.50,0.75,1],\n",
    "          'kernel':['linear','rbf']}\n",
    "rs_svm = RandomizedSearchCV(svm.SVC(),param_distributions=svm_para,\n",
    "                            cv=5,n_iter=20,verbose=True)\n",
    "rs_svm.fit(x,y)\n",
    "print(rs_svm.best_score_)\n",
    "print(rs_svm.best_params_)\n",
    "print('***********************')"
   ]
  },
  {
   "cell_type": "code",
   "execution_count": 35,
   "id": "f432e339",
   "metadata": {},
   "outputs": [
    {
     "name": "stdout",
     "output_type": "stream",
     "text": [
      "Fitting 5 folds for each of 20 candidates, totalling 100 fits\n",
      "0.8066011466011467\n",
      "{'n_estimators': 190, 'min_samples_split': 20, 'min_samples_leaf': 1, 'max_features': 'sqrt', 'max_depth': 3}\n",
      "***********************\n"
     ]
    }
   ],
   "source": [
    " # Hyper parameter for Random forest classifier\n",
    "rf_para = {'n_estimators':np.arange(10,1000,10),\n",
    "           'max_features':['auto','sqrt'],\n",
    "           'max_depth':[None,3,5,10,20,30],\n",
    "           'min_samples_split':[2,5,20,50,100],\n",
    "           'min_samples_leaf':[1,2,5,10]}\n",
    "\n",
    "rs_rf = RandomizedSearchCV(RandomForestClassifier(),\n",
    "                           param_distributions=rf_para,\n",
    "                           cv=5,n_iter=20,verbose=True)\n",
    "rs_rf.fit(x,y)\n",
    "print(rs_rf.best_score_)\n",
    "print(rs_rf.best_params_)\n",
    "print('***********************')"
   ]
  },
  {
   "cell_type": "markdown",
   "id": "e3fbe0e2",
   "metadata": {},
   "source": [
    "# selecting Random forest as final best model and use its best parameters\n",
    "# so we selected Random forest classifier is the best model for this dataset\n",
    "  # its accuracy score is 80.84"
   ]
  },
  {
   "cell_type": "code",
   "execution_count": 36,
   "id": "36cef5b3",
   "metadata": {},
   "outputs": [
    {
     "name": "stdout",
     "output_type": "stream",
     "text": [
      "RandomForestClassifier(max_depth=5, min_samples_leaf=5, min_samples_split=5,\n",
      "                       n_estimators=270) accuracy is 0.8018018018018018\n",
      "RandomForestClassifier(max_depth=5, min_samples_leaf=5, min_samples_split=5,\n",
      "                       n_estimators=270) Avg crossvalscore is 0.8066011466011467\n"
     ]
    }
   ],
   "source": [
    "rf_final =RandomForestClassifier(n_estimators=270,\n",
    "                           min_samples_split=5,\n",
    "                           min_samples_leaf=5,\n",
    "                           max_features='sqrt',\n",
    "                           max_depth=5)\n",
    "rf_final.fit(x,y)\n",
    "model_acscore(rf_final,x,y)"
   ]
  },
  {
   "cell_type": "code",
   "execution_count": 38,
   "id": "b7f456a2",
   "metadata": {},
   "outputs": [],
   "source": [
    "# save this final model using joblib\n",
    "import joblib\n",
    "joblib.dump(rf_final,'D:\\\\Downloads\\\\joblib_loan_predict2')\n",
    "model11=joblib.load('D:\\\\Downloads\\\\joblib_loan_predict2')"
   ]
  },
  {
   "cell_type": "code",
   "execution_count": 39,
   "id": "fbbce134",
   "metadata": {},
   "outputs": [
    {
     "name": "stdout",
     "output_type": "stream",
     "text": [
      "loan can not be approved\n"
     ]
    }
   ],
   "source": [
    "dfpred = pd.DataFrame({\n",
    "    'Gender':1,\n",
    "    'Married':1,\n",
    "    'Dependents':2,\n",
    "    'Education':0,\n",
    "    'Self_Employed':0,\n",
    "    'ApplicantIncome':2889,\n",
    "    'CoapplicantIncome':0.0,\n",
    "    'LoanAmount':45,\n",
    "    'Loan_Amount_Term':180,\n",
    "    'Credit_History':0,\n",
    "    'Property_Area':1},index=[0])\n",
    "target=model11.predict(dfpred)\n",
    "if target ==1:print('loan will be approved')\n",
    "else: print('loan can not be approved')"
   ]
  },
  {
   "cell_type": "code",
   "execution_count": null,
   "id": "cfe1baa3",
   "metadata": {},
   "outputs": [],
   "source": []
  }
 ],
 "metadata": {
  "kernelspec": {
   "display_name": "Python 3 (ipykernel)",
   "language": "python",
   "name": "python3"
  },
  "language_info": {
   "codemirror_mode": {
    "name": "ipython",
    "version": 3
   },
   "file_extension": ".py",
   "mimetype": "text/x-python",
   "name": "python",
   "nbconvert_exporter": "python",
   "pygments_lexer": "ipython3",
   "version": "3.10.13"
  }
 },
 "nbformat": 4,
 "nbformat_minor": 5
}
